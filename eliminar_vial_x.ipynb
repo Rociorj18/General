{
  "nbformat": 4,
  "nbformat_minor": 0,
  "metadata": {
    "colab": {
      "provenance": []
    },
    "kernelspec": {
      "name": "python3",
      "display_name": "Python 3"
    },
    "language_info": {
      "name": "python"
    }
  },
  "cells": [
    {
      "cell_type": "code",
      "execution_count": 10,
      "metadata": {
        "id": "IOtJz0L51u5Z"
      },
      "outputs": [],
      "source": [
        "### ELIMINA LO QUE HAY DELANTE DE UN \"_\" EN UNA LINEA QUE EMPIEZA POR > y se queda con el resto.\n",
        "# Seq1_aaaa se quedaria como aaaa\n",
        "# Abrir el archivo de entrada y crear uno nuevo para escribir los resultados\n",
        "with open(\"/content/FASTA_DEFINITIVO_227.txt\", \"r\") as archivo_entrada, open(\"archivo_modificado.txt\", \"w\") as archivo_salida:\n",
        "    # Iterar sobre cada línea en el archivo de entrada\n",
        "    for linea in archivo_entrada:\n",
        "        # Verificar si la línea comienza con \">\"\n",
        "        if linea.startswith(\">\"):\n",
        "            # Encontrar la posición del primer guion bajo \"_\"\n",
        "            indice_guion_bajo = linea.find(\"_\")\n",
        "            # Extraer el identificador después del primer guion bajo\n",
        "            nuevo_identificador = linea[indice_guion_bajo + 1:].strip()\n",
        "            # Escribir el nuevo identificador en el archivo de salida\n",
        "            archivo_salida.write(\">\" + nuevo_identificador + \"\\n\")\n",
        "        else:\n",
        "            # Escribir otras líneas sin modificar en el archivo de salida\n",
        "            archivo_salida.write(linea)\n"
      ]
    }
  ]
}