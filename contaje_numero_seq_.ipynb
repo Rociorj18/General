{
  "nbformat": 4,
  "nbformat_minor": 0,
  "metadata": {
    "colab": {
      "provenance": []
    },
    "kernelspec": {
      "name": "python3",
      "display_name": "Python 3"
    },
    "language_info": {
      "name": "python"
    }
  },
  "cells": [
    {
      "cell_type": "markdown",
      "source": [
        "# CONTAJE DE SECUENCIAS\n",
        "Scripts para contar el numero de secuencias:\n",
        "  - PRIMERO POR PALABRA SEQ.\n",
        "  - SEGUNDO POR SIMBOLO >."
      ],
      "metadata": {
        "id": "TSdwRUA68jHN"
      }
    },
    {
      "cell_type": "code",
      "execution_count": null,
      "metadata": {
        "id": "Hg6XhpCq8ame"
      },
      "outputs": [],
      "source": [
        "################################# CONTAJE NUMERO DE SECUENCIAS por palabra SEQQQQQQQ    #############################\n",
        "\n",
        "from google.colab import files\n",
        "\n",
        "def contar_secuencias(archivo):\n",
        "    try:\n",
        "        # Cargar el archivo desde Colab\n",
        "        with open(archivo, 'r') as file:\n",
        "            # Leer todas las líneas del archivo\n",
        "            lineas = file.readlines()\n",
        "\n",
        "        # Contador de secuencias\n",
        "        contador_secuencias = 0\n",
        "\n",
        "        # Iterar sobre cada línea del archivo\n",
        "        for linea in lineas:\n",
        "            # Contar el número de veces que aparece \"Seq\" en la línea\n",
        "            contador_secuencias += linea.count(\"Seq\")\n",
        "\n",
        "        return contador_secuencias\n",
        "\n",
        "    except FileNotFoundError:\n",
        "        return \"Archivo no encontrado. Por favor, asegúrate de que el archivo esté en el directorio correcto.\"\n",
        "\n",
        "# Sube tu archivo al entorno de Colab\n",
        "print(\"Por favor, selecciona el archivo que contiene las secuencias:\")\n",
        "archivo = files.upload()\n",
        "\n",
        "# Nombre del archivo subido (asumiendo que solo subes un archivo)\n",
        "nombre_archivo = list(archivo.keys())[0]\n",
        "\n",
        "# Contar secuencias en el archivo\n",
        "contador = contar_secuencias(nombre_archivo)\n",
        "print(f\"El número total de secuencias 'Seq' en el archivo '{nombre_archivo}' es: {contador}\")\n"
      ]
    },
    {
      "cell_type": "code",
      "source": [
        "################# CONTAJE POR SIMBOLO > #############################\n",
        "from google.colab import files\n",
        "\n",
        "def contar_simbolo(archivo, simbolo):\n",
        "    try:\n",
        "        # Cargar el archivo desde Colab\n",
        "        with open(archivo, 'r') as file:\n",
        "            # Leer todas las líneas del archivo\n",
        "            lineas = file.readlines()\n",
        "\n",
        "        # Contador del símbolo\n",
        "        contador_simbolo = 0\n",
        "\n",
        "        # Iterar sobre cada línea del archivo\n",
        "        for linea in lineas:\n",
        "            # Contar el número de veces que aparece el símbolo en la línea\n",
        "            contador_simbolo += linea.count(simbolo)\n",
        "\n",
        "        return contador_simbolo\n",
        "\n",
        "    except FileNotFoundError:\n",
        "        return \"Archivo no encontrado. Por favor, asegúrate de que el archivo esté en el directorio correcto.\"\n",
        "\n",
        "# Sube tu archivo al entorno de Colab\n",
        "print(\"Por favor, selecciona el archivo en el que quieres contar el número de símbolos:\")\n",
        "archivo = files.upload()\n",
        "\n",
        "# Nombre del archivo subido (asumiendo que solo subes un archivo)\n",
        "nombre_archivo = list(archivo.keys())[0]\n",
        "\n",
        "# Contar el símbolo en el archivo\n",
        "simbolo = \">\"\n",
        "contador = contar_simbolo(nombre_archivo, simbolo)\n",
        "print(f\"El número total de '{simbolo}' en el archivo '{nombre_archivo}' es: {contador}\")\n"
      ],
      "metadata": {
        "id": "orLx9J7F8g0z"
      },
      "execution_count": null,
      "outputs": []
    }
  ]
}