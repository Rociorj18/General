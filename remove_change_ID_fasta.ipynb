{
  "cells": [
    {
      "cell_type": "markdown",
      "metadata": {
        "id": "view-in-github",
        "colab_type": "text"
      },
      "source": [
        "<a href=\"https://colab.research.google.com/github/Rociorj18/General/blob/main/remove_change_ID_fasta.ipynb\" target=\"_parent\"><img src=\"https://colab.research.google.com/assets/colab-badge.svg\" alt=\"Open In Colab\"/></a>"
      ]
    },
    {
      "cell_type": "markdown",
      "source": [
        "# Script para eliminar partes de la identificacion de los fasta.\n"
      ],
      "metadata": {
        "id": "5uqHfVkyXZBC"
      },
      "id": "5uqHfVkyXZBC"
    },
    {
      "cell_type": "code",
      "source": [
        "# este divide el campo segun las tabulaciones existentes\n",
        "def procesar_archivo(input_file, output_file):\n",
        "    with open(input_file, 'r') as f_in, open(output_file, 'w') as f_out:\n",
        "        for line in f_in:\n",
        "            if line.startswith('>'):\n",
        "                # Dividir la línea en función del carácter \"|\"\n",
        "                identificador = line.split('|')[0] # split divide segun tabulaciones.\n",
        "                # Escribir el identificador modificado en el nuevo archivo\n",
        "                f_out.write(f'{identificador}\\n')\n",
        "            else:\n",
        "                # Escribir la línea tal como está en el nuevo archivo\n",
        "                f_out.write(line)\n",
        "\n",
        "# Ejemplo de uso\n",
        "input_file =  \"C:\\\\Users\\\\arramirezj\\\\Desktop\\\\alineamiento_rps8_forskaolea.fas\"\n",
        "output_file = \"C:\\\\Users\\\\arramirezj\\\\Desktop\\\\ali_sinidenti_rps8.fas\"\n",
        "procesar_archivo(input_file, output_file)\n",
        "print(\"Procesamiento completado.\")\n"
      ],
      "metadata": {
        "id": "pCqfc6oLW_9D"
      },
      "id": "pCqfc6oLW_9D",
      "execution_count": null,
      "outputs": []
    },
    {
      "cell_type": "code",
      "execution_count": null,
      "id": "5a333bbf-60a8-459d-a150-63ddfbca6e17",
      "metadata": {
        "tags": [],
        "id": "5a333bbf-60a8-459d-a150-63ddfbca6e17"
      },
      "outputs": [],
      "source": [
        "### prueba, este archivo es así: >KF137798.1|Archiboehmeria atrata  y lo que hace es quedarse con lo que\n",
        "# hay delante del \"|\"\n",
        "\n",
        "def procesar_archivo(input_file, output_file):\n",
        "    with open(input_file, 'r') as f_in, open(output_file, 'w') as f_out:\n",
        "        for line in f_in:\n",
        "            if line.startswith('>'):\n",
        "                # Dividir la línea en función del carácter \"|\"\n",
        "                identificador = line.split('|')[0] # split divide segun tabulaciones.\n",
        "                # Escribir el identificador modificado en el nuevo archivo\n",
        "                f_out.write(f'{identificador}\\n')\n",
        "            else:\n",
        "                # Escribir la línea tal como está en el nuevo archivo\n",
        "                f_out.write(line)\n",
        "\n",
        "# Ejemplo de uso\n",
        "input_file =  \"/content/alineamiento_ITS_forskaolea.fas\" #\"C:\\\\Users\\\\arramirezj\\\\Desktop\\\\alineamiento_rps8_forskaolea.fas\"\n",
        "output_file = \"/content/p.fas\" # \"C:\\\\Users\\\\arramirezj\\\\Desktop\\\\ali_sinidenti_rps8.fas\"\n",
        "procesar_archivo(input_file, output_file)\n",
        "print(\"Procesamiento completado.\")\n"
      ]
    },
    {
      "cell_type": "code",
      "source": [
        "## prueba: este se quedaria con lo que hay despues del \"|\"\n",
        "def procesar_archivo(input_file, output_file):\n",
        "    with open(input_file, 'r') as f_in, open(output_file, 'w') as f_out:\n",
        "        for line in f_in:\n",
        "            if line.startswith('>'):\n",
        "                # Encontrar la posición del carácter '|'\n",
        "                indice_barra = line.find('|')\n",
        "                if indice_barra != -1:  # Si se encuentra el carácter '|'\n",
        "                    # Escribir lo que está después del carácter '|'\n",
        "                    f_out.write(f'{line[indice_barra + 1:]}')\n",
        "            else:\n",
        "                # Escribir la línea tal como está en el nuevo archivo\n",
        "                f_out.write(line)\n",
        "\n",
        "# Ejemplo de uso\n",
        "input_file =  \"/content/alineamiento_ITS_forskaolea.fas\"\n",
        "output_file = \"/content/p.fas\"\n",
        "procesar_archivo(input_file, output_file)\n",
        "print(\"Procesamiento completado.\")\n"
      ],
      "metadata": {
        "colab": {
          "base_uri": "https://localhost:8080/"
        },
        "id": "l200bvfvVp_j",
        "outputId": "c67e659f-0a17-4ece-c78b-376eb56222c2"
      },
      "id": "l200bvfvVp_j",
      "execution_count": 12,
      "outputs": [
        {
          "output_type": "stream",
          "name": "stdout",
          "text": [
            "Procesamiento completado.\n"
          ]
        }
      ]
    }
  ],
  "metadata": {
    "kernelspec": {
      "display_name": "Python 3 (ipykernel)",
      "language": "python",
      "name": "python3"
    },
    "language_info": {
      "codemirror_mode": {
        "name": "ipython",
        "version": 3
      },
      "file_extension": ".py",
      "mimetype": "text/x-python",
      "name": "python",
      "nbconvert_exporter": "python",
      "pygments_lexer": "ipython3",
      "version": "3.11.5"
    },
    "colab": {
      "provenance": [],
      "include_colab_link": true
    }
  },
  "nbformat": 4,
  "nbformat_minor": 5
}